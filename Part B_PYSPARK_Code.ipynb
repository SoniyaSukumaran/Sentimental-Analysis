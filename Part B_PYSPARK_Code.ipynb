{
 "cells": [
  {
   "cell_type": "code",
   "execution_count": 1,
   "id": "195743f7",
   "metadata": {},
   "outputs": [],
   "source": [
    "import findspark"
   ]
  },
  {
   "cell_type": "code",
   "execution_count": 2,
   "id": "29d7a512",
   "metadata": {},
   "outputs": [],
   "source": [
    "from pyspark.ml.feature import VectorAssembler\n",
    "from pyspark.ml.feature import StringIndexer\n",
    "from pyspark.ml import Pipeline\n",
    "from pyspark.ml.classification import LogisticRegression\n",
    "from pyspark.ml.evaluation import MulticlassClassificationEvaluator"
   ]
  },
  {
   "cell_type": "code",
   "execution_count": 3,
   "id": "e7c8e0d7",
   "metadata": {},
   "outputs": [],
   "source": [
    "findspark.init(r\"C:\\Users\\soniy\\OneDrive\\Desktop\\BIG DATA\\PRACTICAL\\spark-3.3.1-bin-hadoop3\")"
   ]
  },
  {
   "cell_type": "code",
   "execution_count": 4,
   "id": "68ff0650",
   "metadata": {},
   "outputs": [],
   "source": [
    "from pyspark.sql import SparkSession\n",
    "\n",
    "spark = SparkSession.builder.appName(\"SparkLab\").getOrCreate()"
   ]
  },
  {
   "cell_type": "code",
   "execution_count": 5,
   "id": "73640e18",
   "metadata": {},
   "outputs": [],
   "source": [
    "data= spark.read.load(r\"C:\\Users\\soniy\\OneDrive\\Desktop\\BIG DATA\\kindle_reviews.csv\", format=\"csv\", sep=\",\", header=\"true\", inferSchema=True)"
   ]
  },
  {
   "cell_type": "code",
   "execution_count": 6,
   "id": "71f32145",
   "metadata": {},
   "outputs": [
    {
     "name": "stdout",
     "output_type": "stream",
     "text": [
      "+---+----------+-------+-------+--------------------+-----------+--------------+--------------------+------------------+--------------+\n",
      "|_c0|      asin|helpful|overall|          reviewText| reviewTime|    reviewerID|        reviewerName|           summary|unixReviewTime|\n",
      "+---+----------+-------+-------+--------------------+-----------+--------------+--------------------+------------------+--------------+\n",
      "|  0|B000F83SZQ| [0, 0]|      5|I enjoy vintage b...| 05 5, 2014|A1F6404F1VG29J|          Avidreader|Nice vintage story|    1399248000|\n",
      "|  1|B000F83SZQ| [2, 2]|      4|This book is a re...| 01 6, 2014| AN0N05A9LIJEQ|            critters|      Different...|    1388966400|\n",
      "|  2|B000F83SZQ| [2, 2]|      4|This was a fairly...| 04 4, 2014| A795DMNCJILA6|                 dot|             Oldie|    1396569600|\n",
      "|  3|B000F83SZQ| [1, 1]|      5|I'd never read an...|02 19, 2014|A1FV0SX13TWVXQ|\"Elaine H. Turley...|I really liked it.|    1392768000|\n",
      "|  4|B000F83SZQ| [0, 1]|      4|If you like perio...|03 19, 2014|A3SPTOKDG7WBLN|  Father Dowling Fan|    Period Mystery|    1395187200|\n",
      "+---+----------+-------+-------+--------------------+-----------+--------------+--------------------+------------------+--------------+\n",
      "only showing top 5 rows\n",
      "\n"
     ]
    }
   ],
   "source": [
    "data.show(5)"
   ]
  },
  {
   "cell_type": "code",
   "execution_count": 7,
   "id": "0c2e2523",
   "metadata": {},
   "outputs": [
    {
     "name": "stdout",
     "output_type": "stream",
     "text": [
      "root\n",
      " |-- _c0: string (nullable = true)\n",
      " |-- asin: string (nullable = true)\n",
      " |-- helpful: string (nullable = true)\n",
      " |-- overall: integer (nullable = true)\n",
      " |-- reviewText: string (nullable = true)\n",
      " |-- reviewTime: string (nullable = true)\n",
      " |-- reviewerID: string (nullable = true)\n",
      " |-- reviewerName: string (nullable = true)\n",
      " |-- summary: string (nullable = true)\n",
      " |-- unixReviewTime: string (nullable = true)\n",
      "\n"
     ]
    }
   ],
   "source": [
    "data.printSchema()\n",
    "\n"
   ]
  },
  {
   "cell_type": "code",
   "execution_count": 89,
   "id": "3754b22d",
   "metadata": {},
   "outputs": [
    {
     "name": "stdout",
     "output_type": "stream",
     "text": [
      "The dataset has 982820 rows and 11 columns.\n"
     ]
    }
   ],
   "source": [
    "num_rows = data.count()\n",
    "num_cols = len(data.columns)\n",
    "\n",
    "print(\"The dataset has\", num_rows, \"rows and\", num_cols, \"columns.\")"
   ]
  },
  {
   "cell_type": "markdown",
   "id": "413d2c54",
   "metadata": {},
   "source": [
    "SELECT NEEDED COLUMNS"
   ]
  },
  {
   "cell_type": "code",
   "execution_count": 6,
   "id": "d2762200",
   "metadata": {},
   "outputs": [],
   "source": [
    "data = data.select([\"reviewText\",\"overall\"])"
   ]
  },
  {
   "cell_type": "markdown",
   "id": "f8bbb10d",
   "metadata": {},
   "source": [
    "CHECKING FOR NULL OR NAN VALUES"
   ]
  },
  {
   "cell_type": "code",
   "execution_count": 7,
   "id": "9dda1831",
   "metadata": {},
   "outputs": [
    {
     "name": "stdout",
     "output_type": "stream",
     "text": [
      "+----------+-------+\n",
      "|reviewText|overall|\n",
      "+----------+-------+\n",
      "|       223|    201|\n",
      "+----------+-------+\n",
      "\n"
     ]
    }
   ],
   "source": [
    "from pyspark.sql.functions import col,isnan, when, count\n",
    "data.select([count(when(isnan(c) | col(c).isNull(), c)).alias(c) for c in data.columns]\n",
    "   ).show()\n"
   ]
  },
  {
   "cell_type": "code",
   "execution_count": 8,
   "id": "224ab8b6",
   "metadata": {},
   "outputs": [],
   "source": [
    "data = data.dropna(how=\"any\")"
   ]
  },
  {
   "cell_type": "code",
   "execution_count": 9,
   "id": "0f638996",
   "metadata": {},
   "outputs": [
    {
     "name": "stdout",
     "output_type": "stream",
     "text": [
      "+----------+-------+\n",
      "|reviewText|overall|\n",
      "+----------+-------+\n",
      "|         0|      0|\n",
      "+----------+-------+\n",
      "\n"
     ]
    }
   ],
   "source": [
    "data.select([count(when(isnan(c) | col(c).isNull(), c)).alias(c) for c in data.columns]\n",
    "   ).show()\n"
   ]
  },
  {
   "cell_type": "code",
   "execution_count": 10,
   "id": "5963f79d",
   "metadata": {},
   "outputs": [
    {
     "name": "stdout",
     "output_type": "stream",
     "text": [
      "+-------+------+\n",
      "|overall| count|\n",
      "+-------+------+\n",
      "|      1| 23018|\n",
      "|      3| 96193|\n",
      "|      5|575246|\n",
      "|      4|254010|\n",
      "|      2| 34130|\n",
      "+-------+------+\n",
      "\n"
     ]
    }
   ],
   "source": [
    "overall_count = data.groupBy(\"overall\").count()\n",
    "\n",
    "# Show the resulting DataFrame\n",
    "overall_count.show()"
   ]
  },
  {
   "cell_type": "code",
   "execution_count": 13,
   "id": "392a8e7a",
   "metadata": {},
   "outputs": [
    {
     "data": {
      "text/plain": [
       "<AxesSubplot:xlabel='overall'>"
      ]
     },
     "execution_count": 13,
     "metadata": {},
     "output_type": "execute_result"
    },
    {
     "data": {
      "image/png": "[encoded data removed]",
      "text/plain": [
       "<Figure size 432x288 with 1 Axes>"
      ]
     },
     "metadata": {
      "needs_background": "light"
     },
     "output_type": "display_data"
    }
   ],
   "source": [
    "# Create a bar plot\n",
    "to_pandas = overall_count.toPandas()\n",
    "\n",
    "to_pandas.plot(x=\"overall\", y=\"count\", kind=\"bar\")"
   ]
  },
  {
   "cell_type": "code",
   "execution_count": 10,
   "id": "5b44f89f",
   "metadata": {},
   "outputs": [],
   "source": [
    "def new_overall(value):\n",
    "  if value in [4, 5]:\n",
    "    return \"good\"\n",
    "  elif value in [3, 2, 1]:\n",
    "    return \"bad\"\n",
    "\n",
    "from pyspark.sql.functions import udf\n",
    "new_overall_udf = udf(new_overall)\n",
    "data = data.withColumn(\"review\", new_overall_udf(\"overall\"))"
   ]
  },
  {
   "cell_type": "code",
   "execution_count": 12,
   "id": "3659a1e0",
   "metadata": {},
   "outputs": [
    {
     "name": "stdout",
     "output_type": "stream",
     "text": [
      "+--------------------+-------+------+\n",
      "|          reviewText|overall|review|\n",
      "+--------------------+-------+------+\n",
      "|I enjoy vintage b...|      5|  good|\n",
      "|This book is a re...|      4|  good|\n",
      "|This was a fairly...|      4|  good|\n",
      "|I'd never read an...|      5|  good|\n",
      "|If you like perio...|      4|  good|\n",
      "|A beautiful in-de...|      4|  good|\n",
      "|I enjoyed this on...|      4|  good|\n",
      "|Never heard of Am...|      4|  good|\n",
      "|Darth Maul workin...|      5|  good|\n",
      "|This is a short s...|      4|  good|\n",
      "|I think I have th...|      5|  good|\n",
      "|Title has nothing...|      4|  good|\n",
      "|Well written. Int...|      3|   bad|\n",
      "|Troy Denning's no...|      3|   bad|\n",
      "|I am not for sure...|      5|  good|\n",
      "|I really enjoyed ...|      5|  good|\n",
      "|Great read enjoye...|      5|  good|\n",
      "|Another well writ...|      3|   bad|\n",
      "|This one promises...|      5|  good|\n",
      "|\"I have a version...|      4|  good|\n",
      "+--------------------+-------+------+\n",
      "only showing top 20 rows\n",
      "\n"
     ]
    }
   ],
   "source": [
    "data.show(20)"
   ]
  },
  {
   "cell_type": "code",
   "execution_count": 20,
   "id": "28954339",
   "metadata": {},
   "outputs": [
    {
     "name": "stdout",
     "output_type": "stream",
     "text": [
      "+------+------+\n",
      "|review| count|\n",
      "+------+------+\n",
      "|   bad|153341|\n",
      "|  good|829256|\n",
      "+------+------+\n",
      "\n"
     ]
    }
   ],
   "source": [
    "review_count = data.groupBy(\"review\").count()\n",
    "\n",
    "review_count.show()"
   ]
  },
  {
   "cell_type": "code",
   "execution_count": 11,
   "id": "2994244a",
   "metadata": {},
   "outputs": [],
   "source": [
    "from pyspark.sql.functions import regexp_replace\n",
    "\n",
    "data = data.withColumn(\"Text\", regexp_replace(\"reviewText\", \"[^a-zA-Z\\\\s]\", \"\"))\n",
    "\n",
    "data = data.withColumn(\"ReviewText\", regexp_replace(\"Text\", \"\\\\b\\\\d+\\\\b\", \"\"))"
   ]
  },
  {
   "cell_type": "code",
   "execution_count": 18,
   "id": "ac7c64ba",
   "metadata": {},
   "outputs": [
    {
     "name": "stdout",
     "output_type": "stream",
     "text": [
      "+--------------------+-------+------+--------------------+\n",
      "|          ReviewText|overall|review|                Text|\n",
      "+--------------------+-------+------+--------------------+\n",
      "|I enjoy vintage b...|      5|  good|I enjoy vintage b...|\n",
      "|This book is a re...|      4|  good|This book is a re...|\n",
      "|This was a fairly...|      4|  good|This was a fairly...|\n",
      "|Id never read any...|      5|  good|Id never read any...|\n",
      "|If you like perio...|      4|  good|If you like perio...|\n",
      "|A beautiful indep...|      4|  good|A beautiful indep...|\n",
      "|I enjoyed this on...|      4|  good|I enjoyed this on...|\n",
      "|Never heard of Am...|      4|  good|Never heard of Am...|\n",
      "|Darth Maul workin...|      5|  good|Darth Maul workin...|\n",
      "|This is a short s...|      4|  good|This is a short s...|\n",
      "|I think I have th...|      5|  good|I think I have th...|\n",
      "|Title has nothing...|      4|  good|Title has nothing...|\n",
      "|Well written Inte...|      3|   bad|Well written Inte...|\n",
      "|Troy Dennings nov...|      3|   bad|Troy Dennings nov...|\n",
      "|I am not for sure...|      5|  good|I am not for sure...|\n",
      "|I really enjoyed ...|      5|  good|I really enjoyed ...|\n",
      "|Great read enjoye...|      5|  good|Great read enjoye...|\n",
      "|Another well writ...|      3|   bad|Another well writ...|\n",
      "|This one promises...|      5|  good|This one promises...|\n",
      "|I have a version ...|      4|  good|I have a version ...|\n",
      "|Excellent Very we...|      5|  good|Excellent Very we...|\n",
      "|With Ylesia a nov...|      2|   bad|With Ylesia a nov...|\n",
      "|Great book couldn...|      5|  good|Great book couldn...|\n",
      "|Most of the New J...|      4|  good|Most of the New J...|\n",
      "|I was hoping to f...|      5|  good|I was hoping to f...|\n",
      "|The events of Yle...|      3|   bad|The events of Yle...|\n",
      "|Really shouldnt h...|      5|  good|Really shouldnt h...|\n",
      "|Originally publis...|      3|   bad|Originally publis...|\n",
      "|This book was a g...|      4|  good|This book was a g...|\n",
      "|Great short story...|      5|  good|Great short story...|\n",
      "|I love anything w...|      5|  good|I love anything w...|\n",
      "|A great little ch...|      5|  good|A great little ch...|\n",
      "|I love the storie...|      5|  good|I love the storie...|\n",
      "|Im not really sur...|      4|  good|Im not really sur...|\n",
      "|I really do enjoy...|      3|   bad|I really do enjoy...|\n",
      "|Timothy Zahns Foo...|      3|   bad|Timothy Zahns Foo...|\n",
      "|Not too bad an in...|      3|   bad|Not too bad an in...|\n",
      "|I absolutely love...|      5|  good|I absolutely love...|\n",
      "|What can I say St...|      5|  good|What can I say St...|\n",
      "|For whatever reas...|      2|   bad|For whatever reas...|\n",
      "|As an ebook it re...|      3|   bad|As an ebook it re...|\n",
      "| Note this story ...|      3|   bad| Note this story ...|\n",
      "|I admit it I snap...|      2|   bad|I admit it I snap...|\n",
      "|I love Timothy Za...|      5|  good|I love Timothy Za...|\n",
      "|The hero in this ...|      5|  good|The hero in this ...|\n",
      "|The Iron Marshall...|      5|  good|The Iron Marshall...|\n",
      "|This is yet anoth...|      5|  good|This is yet anoth...|\n",
      "|I almost didnt ge...|      5|  good|I almost didnt ge...|\n",
      "|This story by Lou...|      5|  good|This story by Lou...|\n",
      "|This is how it wa...|      5|  good|This is how it wa...|\n",
      "+--------------------+-------+------+--------------------+\n",
      "only showing top 50 rows\n",
      "\n"
     ]
    }
   ],
   "source": [
    "data.show(50)"
   ]
  },
  {
   "cell_type": "code",
   "execution_count": 12,
   "id": "77af9790",
   "metadata": {},
   "outputs": [
    {
     "name": "stdout",
     "output_type": "stream",
     "text": [
      "+--------------------+------+\n",
      "|          ReviewText|review|\n",
      "+--------------------+------+\n",
      "|I enjoy vintage b...|  good|\n",
      "|This book is a re...|  good|\n",
      "|This was a fairly...|  good|\n",
      "|Id never read any...|  good|\n",
      "|If you like perio...|  good|\n",
      "+--------------------+------+\n",
      "only showing top 5 rows\n",
      "\n"
     ]
    }
   ],
   "source": [
    "data = data.drop('overall')\n",
    "data=data.drop('Text')\n",
    "data.show(5)"
   ]
  },
  {
   "cell_type": "code",
   "execution_count": 13,
   "id": "196523b5",
   "metadata": {},
   "outputs": [],
   "source": [
    "from pyspark.ml.feature import RegexTokenizer,  CountVectorizer\n",
    "\n",
    "Tokenization = RegexTokenizer(inputCol=\"ReviewText\", outputCol=\"review_token\", pattern=\"\\\\W\")"
   ]
  },
  {
   "cell_type": "code",
   "execution_count": 14,
   "id": "7213ffe9",
   "metadata": {},
   "outputs": [],
   "source": [
    "countVectors = CountVectorizer(inputCol=\"review_token\", outputCol=\"features\",vocabSize=15000, minDF=5)"
   ]
  },
  {
   "cell_type": "code",
   "execution_count": 15,
   "id": "c2c27a7a",
   "metadata": {},
   "outputs": [],
   "source": [
    "from pyspark.ml import Pipeline\n",
    "from pyspark.ml.feature import StringIndexer\n",
    "label_stringIdx = StringIndexer(inputCol = \"review\", outputCol = \"label\")\n",
    "\n",
    "pipeline = Pipeline(stages=[Tokenization,  countVectors,label_stringIdx])"
   ]
  },
  {
   "cell_type": "code",
   "execution_count": 16,
   "id": "be8d3160",
   "metadata": {},
   "outputs": [
    {
     "name": "stdout",
     "output_type": "stream",
     "text": [
      "+--------------------+------+--------------------+--------------------+-----+\n",
      "|          ReviewText|review|        review_token|            features|label|\n",
      "+--------------------+------+--------------------+--------------------+-----+\n",
      "|I enjoy vintage b...|  good|[i, enjoy, vintag...|(15000,[0,1,2,3,4...|  0.0|\n",
      "|This book is a re...|  good|[this, book, is, ...|(15000,[0,1,2,3,4...|  0.0|\n",
      "|This was a fairly...|  good|[this, was, a, fa...|(15000,[0,1,2,3,4...|  0.0|\n",
      "|Id never read any...|  good|[id, never, read,...|(15000,[0,4,5,7,1...|  0.0|\n",
      "|If you like perio...|  good|[if, you, like, p...|(15000,[0,5,7,16,...|  0.0|\n",
      "+--------------------+------+--------------------+--------------------+-----+\n",
      "only showing top 5 rows\n",
      "\n"
     ]
    }
   ],
   "source": [
    "pipelineFit = pipeline.fit(data)\n",
    "dataset = pipelineFit.transform(data)\n",
    "dataset.show(5)"
   ]
  },
  {
   "cell_type": "code",
   "execution_count": 17,
   "id": "9e68b926",
   "metadata": {},
   "outputs": [],
   "source": [
    "(trainingData, testData) = dataset.randomSplit([0.7, 0.3], seed = 100)"
   ]
  },
  {
   "cell_type": "code",
   "execution_count": 18,
   "id": "45c6072b",
   "metadata": {},
   "outputs": [],
   "source": [
    "from pyspark.ml.classification import LinearSVC\n",
    "\n",
    "svm = LinearSVC(maxIter=10, regParam=0.1,labelCol=\"label\", featuresCol=\"features\")"
   ]
  },
  {
   "cell_type": "code",
   "execution_count": 19,
   "id": "ed37ca4a",
   "metadata": {},
   "outputs": [],
   "source": [
    "Model = svm.fit(trainingData)\n"
   ]
  },
  {
   "cell_type": "code",
   "execution_count": 20,
   "id": "dc6a5a18",
   "metadata": {},
   "outputs": [],
   "source": [
    "predictions = Model.transform(testData)\n"
   ]
  },
  {
   "cell_type": "code",
   "execution_count": 44,
   "id": "999f3afe",
   "metadata": {},
   "outputs": [
    {
     "name": "stdout",
     "output_type": "stream",
     "text": [
      "root\n",
      " |-- ReviewText: string (nullable = true)\n",
      " |-- review: string (nullable = true)\n",
      " |-- review_token: array (nullable = true)\n",
      " |    |-- element: string (containsNull = true)\n",
      " |-- features: vector (nullable = true)\n",
      " |-- label: double (nullable = false)\n",
      " |-- rawPrediction: vector (nullable = true)\n",
      " |-- prediction: double (nullable = false)\n",
      "\n"
     ]
    }
   ],
   "source": [
    "predictions.printSchema()"
   ]
  },
  {
   "cell_type": "code",
   "execution_count": 26,
   "id": "72b83260",
   "metadata": {},
   "outputs": [
    {
     "name": "stdout",
     "output_type": "stream",
     "text": [
      "+------------------------------+-----+----------+\n",
      "|                    reviewText|label|prediction|\n",
      "+------------------------------+-----+----------+\n",
      "|   reading eBooks is changi...|  0.0|       1.0|\n",
      "|  It just did not hold my i...|  1.0|       1.0|\n",
      "|  Nice story Absolutely lov...|  0.0|       1.0|\n",
      "|  No spoilers  An epic fant...|  1.0|       1.0|\n",
      "|  Older alpha male  check  ...|  1.0|       1.0|\n",
      "|  STARS ROUNDED UP TO TWO F...|  1.0|       1.0|\n",
      "|  Stars Being a courier for...|  0.0|       1.0|\n",
      "|  Stars Its innocent if sli...|  0.0|       1.0|\n",
      "|  Stars She lives She dies ...|  0.0|       1.0|\n",
      "|  Stars She witnessed a pow...|  0.0|       1.0|\n",
      "+------------------------------+-----+----------+\n",
      "only showing top 10 rows\n",
      "\n"
     ]
    }
   ],
   "source": [
    "predictions.filter(predictions['prediction'] == 1) \\\n",
    "    .select(\"reviewText\",\"label\",\"prediction\") \\\n",
    "    .show(n = 10, truncate = 30)"
   ]
  },
  {
   "cell_type": "code",
   "execution_count": 25,
   "id": "ed882c22",
   "metadata": {},
   "outputs": [
    {
     "name": "stdout",
     "output_type": "stream",
     "text": [
      "+--------------------------------------------------+-----+----------+\n",
      "|                                        reviewText|label|prediction|\n",
      "+--------------------------------------------------+-----+----------+\n",
      "|   Keeping relevant information from my readers...|  1.0|       0.0|\n",
      "|   but if youre able to suspend disbelief smoki...|  0.0|       0.0|\n",
      "|   but thats obviously deliberate Ive heard oth...|  0.0|       0.0|\n",
      "|   over earlier New American BiblesAnd has Dire...|  0.0|       0.0|\n",
      "|  A Well Developed Long Term RelationshipMilita...|  0.0|       0.0|\n",
      "|  A high school girl is struggling to get along...|  1.0|       0.0|\n",
      "|  Get this for your study in  it will help your...|  0.0|       0.0|\n",
      "|  Potential Spoiler In comparison to some other...|  1.0|       0.0|\n",
      "|  STARS After I readThe Abbeya few weeks ago I ...|  0.0|       0.0|\n",
      "|  Stars Former professional tennis player Chris...|  0.0|       0.0|\n",
      "+--------------------------------------------------+-----+----------+\n",
      "only showing top 10 rows\n",
      "\n"
     ]
    }
   ],
   "source": [
    "predictions.filter(predictions['prediction'] == 0) \\\n",
    "    .select(\"reviewText\",\"label\",\"prediction\") \\\n",
    "    .show(n = 10, truncate = 50)"
   ]
  },
  {
   "cell_type": "code",
   "execution_count": 21,
   "id": "63d01f13",
   "metadata": {},
   "outputs": [
    {
     "data": {
      "text/plain": [
       "0.8907667212273079"
      ]
     },
     "execution_count": 21,
     "metadata": {},
     "output_type": "execute_result"
    }
   ],
   "source": [
    "from pyspark.ml.evaluation import MulticlassClassificationEvaluator\n",
    "evaluator = MulticlassClassificationEvaluator(predictionCol=\"prediction\")\n",
    "evaluator.evaluate(predictions)"
   ]
  },
  {
   "cell_type": "code",
   "execution_count": 22,
   "id": "fe511014",
   "metadata": {},
   "outputs": [],
   "source": [
    "from sklearn.metrics import confusion_matrix,classification_report\n",
    "import matplotlib.pyplot as plt"
   ]
  },
  {
   "cell_type": "code",
   "execution_count": 23,
   "id": "7bcf4abe",
   "metadata": {
    "scrolled": true
   },
   "outputs": [
    {
     "name": "stdout",
     "output_type": "stream",
     "text": [
      "[[238585   9956]\n",
      " [ 20543  25396]]\n"
     ]
    }
   ],
   "source": [
    "y_true = predictions.select(\"label\")\n",
    "y_true = y_true.toPandas()\n",
    "y_pred = predictions.select(\"prediction\")\n",
    "y_pred = y_pred.toPandas()\n",
    "\n",
    "confusion_mat = confusion_matrix(y_true, y_pred)\n",
    "print(confusion_mat)"
   ]
  },
  {
   "cell_type": "code",
   "execution_count": 24,
   "id": "7fbd679f",
   "metadata": {},
   "outputs": [
    {
     "name": "stdout",
     "output_type": "stream",
     "text": [
      "              precision    recall  f1-score   support\n",
      "\n",
      "         0.0       0.92      0.96      0.94    248541\n",
      "         1.0       0.72      0.55      0.62     45939\n",
      "\n",
      "    accuracy                           0.90    294480\n",
      "   macro avg       0.82      0.76      0.78    294480\n",
      "weighted avg       0.89      0.90      0.89    294480\n",
      "\n"
     ]
    }
   ],
   "source": [
    "print(classification_report(y_true,y_pred))\n"
   ]
  },
  {
   "cell_type": "code",
   "execution_count": 65,
   "id": "d6358c11",
   "metadata": {},
   "outputs": [],
   "source": [
    "\n",
    "from pyspark.ml.classification import NaiveBayes\n",
    "Nb= NaiveBayes()\n",
    "model =Nb.fit(trainingData)"
   ]
  },
  {
   "cell_type": "code",
   "execution_count": 66,
   "id": "7663873a",
   "metadata": {},
   "outputs": [],
   "source": [
    "predictions_nb = model.transform(testData)"
   ]
  },
  {
   "cell_type": "code",
   "execution_count": 71,
   "id": "a3435b1b",
   "metadata": {},
   "outputs": [
    {
     "name": "stdout",
     "output_type": "stream",
     "text": [
      "+------------------------------+-----+----------+\n",
      "|                    reviewText|label|prediction|\n",
      "+------------------------------+-----+----------+\n",
      "|   Keeping relevant informa...|  1.0|       0.0|\n",
      "|   but if youre able to sus...|  0.0|       0.0|\n",
      "|   but thats obviously deli...|  0.0|       0.0|\n",
      "|   over earlier New America...|  0.0|       0.0|\n",
      "|  A Well Developed Long Ter...|  0.0|       0.0|\n",
      "|  A high school girl is str...|  1.0|       0.0|\n",
      "|  Get this for your study i...|  0.0|       0.0|\n",
      "|  It just did not hold my i...|  1.0|       0.0|\n",
      "|  Nice story Absolutely lov...|  0.0|       0.0|\n",
      "|  Older alpha male  check  ...|  1.0|       0.0|\n",
      "+------------------------------+-----+----------+\n",
      "only showing top 10 rows\n",
      "\n"
     ]
    }
   ],
   "source": [
    "predictions.filter(predictions['prediction'] == 0) \\\n",
    "    .select(\"reviewText\",\"label\",\"prediction\") \\\n",
    "    .show(n = 10, truncate = 30)\n"
   ]
  },
  {
   "cell_type": "code",
   "execution_count": 73,
   "id": "e9580cf2",
   "metadata": {},
   "outputs": [
    {
     "data": {
      "text/plain": [
       "0.8681061359147939"
      ]
     },
     "execution_count": 73,
     "metadata": {},
     "output_type": "execute_result"
    }
   ],
   "source": [
    "evaluator_nb = MulticlassClassificationEvaluator(predictionCol=\"prediction\")\n",
    "evaluator_nb.evaluate(predictions_nb)"
   ]
  },
  {
   "cell_type": "code",
   "execution_count": 74,
   "id": "c506def7",
   "metadata": {},
   "outputs": [
    {
     "name": "stdout",
     "output_type": "stream",
     "text": [
      "[[218710  29831]\n",
      " [ 11648  34291]]\n"
     ]
    }
   ],
   "source": [
    "y_true_nb = predictions_nb.select(\"label\")\n",
    "y_true_nb = y_true_nb.toPandas()\n",
    "y_pred_nb = predictions_nb.select(\"prediction\")\n",
    "y_pred_nb = y_pred_nb.toPandas()\n",
    "\n",
    "confusion_mat_nb = confusion_matrix(y_true_nb, y_pred_nb)\n",
    "print(confusion_mat_nb)"
   ]
  },
  {
   "cell_type": "code",
   "execution_count": 75,
   "id": "faa2f558",
   "metadata": {},
   "outputs": [
    {
     "name": "stdout",
     "output_type": "stream",
     "text": [
      "              precision    recall  f1-score   support\n",
      "\n",
      "         0.0       0.95      0.88      0.91    248541\n",
      "         1.0       0.53      0.75      0.62     45939\n",
      "\n",
      "    accuracy                           0.86    294480\n",
      "   macro avg       0.74      0.81      0.77    294480\n",
      "weighted avg       0.88      0.86      0.87    294480\n",
      "\n"
     ]
    }
   ],
   "source": [
    "print(classification_report(y_true_nb,y_pred_nb))"
   ]
  }
 ],
 "metadata": {
  "kernelspec": {
   "display_name": "Python 3 (ipykernel)",
   "language": "python",
   "name": "python3"
  },
  "language_info": {
   "codemirror_mode": {
    "name": "ipython",
    "version": 3
   },
   "file_extension": ".py",
   "mimetype": "text/x-python",
   "name": "python",
   "nbconvert_exporter": "python",
   "pygments_lexer": "ipython3",
   "version": "3.9.7"
  }
 },
 "nbformat": 4,
 "nbformat_minor": 5
}
